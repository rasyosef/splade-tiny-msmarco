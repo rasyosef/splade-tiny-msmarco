{
  "cells": [
    {
      "cell_type": "code",
      "execution_count": null,
      "metadata": {
        "id": "aYmJGS-ZxWiN"
      },
      "outputs": [],
      "source": [
        "! pip install -Uq huggingface_hub transformers sentence_transformers datasets"
      ]
    },
    {
      "cell_type": "code",
      "execution_count": null,
      "metadata": {
        "id": "TsbURBFkxzgc"
      },
      "outputs": [],
      "source": [
        "import wandb\n",
        "wandb.init(mode=\"disabled\")"
      ]
    },
    {
      "cell_type": "code",
      "execution_count": null,
      "metadata": {
        "colab": {
          "base_uri": "https://localhost:8080/"
        },
        "id": "sGBLiL5aXn-o",
        "outputId": "6b719642-068a-47b4-a9d5-e498352de340"
      },
      "outputs": [
        {
          "output_type": "stream",
          "name": "stdout",
          "text": [
            "rm: cannot remove 'models': No such file or directory\n"
          ]
        }
      ],
      "source": [
        "!rm -r models"
      ]
    },
    {
      "cell_type": "markdown",
      "metadata": {
        "id": "_CFBm3Pvx4W1"
      },
      "source": [
        "### **Load Dataset**"
      ]
    },
    {
      "cell_type": "code",
      "execution_count": null,
      "metadata": {
        "colab": {
          "base_uri": "https://localhost:8080/"
        },
        "id": "X1rVNL19x0KG",
        "outputId": "00e2cfa7-fc25-478b-815f-bb7720088acf"
      },
      "outputs": [
        {
          "output_type": "stream",
          "name": "stderr",
          "text": [
            "/usr/local/lib/python3.11/dist-packages/huggingface_hub/utils/_auth.py:104: UserWarning: \n",
            "Error while fetching `HF_TOKEN` secret value from your vault: 'Requesting secret HF_TOKEN timed out. Secrets can only be fetched when running from the Colab UI.'.\n",
            "You are not authenticated with the Hugging Face Hub in this notebook.\n",
            "If the error persists, please let us know by opening an issue on GitHub (https://github.com/huggingface/huggingface_hub/issues/new).\n",
            "  warnings.warn(\n"
          ]
        },
        {
          "output_type": "execute_result",
          "data": {
            "text/plain": [
              "DatasetDict({\n",
              "    train: Dataset({\n",
              "        features: ['query_id', 'query', 'positives', 'negatives'],\n",
              "        num_rows: 502901\n",
              "    })\n",
              "    dev: Dataset({\n",
              "        features: ['query_id', 'query', 'positives', 'negatives'],\n",
              "        num_rows: 55577\n",
              "    })\n",
              "})"
            ]
          },
          "metadata": {},
          "execution_count": 4
        }
      ],
      "source": [
        "from datasets import load_dataset\n",
        "\n",
        "msmarco = load_dataset(\"rasyosef/msmarco\")\n",
        "msmarco"
      ]
    },
    {
      "cell_type": "code",
      "execution_count": null,
      "metadata": {
        "id": "0CmC69G1xR9b",
        "colab": {
          "base_uri": "https://localhost:8080/"
        },
        "outputId": "c7b39dad-c42e-4e5f-e618-dedde14fa80c"
      },
      "outputs": [
        {
          "output_type": "execute_result",
          "data": {
            "text/plain": [
              "Dataset({\n",
              "    features: ['query_id', 'query', 'positive', 'negative_1', 'negative_2', 'negative_3', 'negative_4', 'negative_5', 'negative_6', 'negative_7', 'negative_8', 'label'],\n",
              "    num_rows: 496123\n",
              "})"
            ]
          },
          "metadata": {},
          "execution_count": 5
        }
      ],
      "source": [
        "msmarco_distil = load_dataset(\"yosefw/msmarco-train-distil-v2\", split=\"train\")\n",
        "msmarco_distil"
      ]
    },
    {
      "cell_type": "code",
      "execution_count": null,
      "metadata": {
        "id": "y20KYqfix-vr",
        "colab": {
          "base_uri": "https://localhost:8080/"
        },
        "outputId": "719960b5-0907-4dbe-8051-4a079c5051b7"
      },
      "outputs": [
        {
          "output_type": "execute_result",
          "data": {
            "text/plain": [
              "(Dataset({\n",
              "     features: ['query_id', 'query', 'positive', 'negative_1', 'negative_2', 'negative_3', 'negative_4', 'negative_5', 'negative_6', 'negative_7', 'negative_8', 'label'],\n",
              "     num_rows: 496123\n",
              " }),\n",
              " Dataset({\n",
              "     features: ['query_id', 'query', 'positives', 'negatives'],\n",
              "     num_rows: 55577\n",
              " }))"
            ]
          },
          "metadata": {},
          "execution_count": 6
        }
      ],
      "source": [
        "train_dataset = msmarco_distil#.shuffle(seed=42).select(range(250_000))\n",
        "test_dataset = msmarco[\"dev\"]#.select(range(10_000))\n",
        "\n",
        "train_dataset, test_dataset"
      ]
    },
    {
      "cell_type": "code",
      "execution_count": null,
      "metadata": {
        "id": "wgcFB1TXyB6U",
        "colab": {
          "base_uri": "https://localhost:8080/"
        },
        "outputId": "9c0e80bb-19a7-49b9-e743-a24a0205c467"
      },
      "outputs": [
        {
          "output_type": "execute_result",
          "data": {
            "text/plain": [
              "(496123, 55577)"
            ]
          },
          "metadata": {},
          "execution_count": 7
        }
      ],
      "source": [
        "len(set(train_dataset['query_id'])), len(set(test_dataset['query_id']))"
      ]
    },
    {
      "cell_type": "code",
      "execution_count": null,
      "metadata": {
        "id": "c3PXFWx7yExd",
        "colab": {
          "base_uri": "https://localhost:8080/"
        },
        "outputId": "2788fc28-764d-4f39-9476-6d47624755b1"
      },
      "outputs": [
        {
          "output_type": "stream",
          "name": "stderr",
          "text": [
            "100%|██████████| 496123/496123 [01:10<00:00, 7063.45it/s]\n"
          ]
        },
        {
          "output_type": "execute_result",
          "data": {
            "text/plain": [
              "Dataset({\n",
              "    features: ['query_id', 'query', 'positive', 'negative_1', 'negative_2', 'negative_3', 'negative_4', 'label'],\n",
              "    num_rows: 496123\n",
              "})"
            ]
          },
          "metadata": {},
          "execution_count": 8
        }
      ],
      "source": [
        "from datasets import Dataset\n",
        "import numpy as np\n",
        "from tqdm import tqdm\n",
        "import random\n",
        "\n",
        "ds_rows = []\n",
        "for row in tqdm(train_dataset):\n",
        "  negatives = [row[\"negative_1\"], row[\"negative_2\"], row[\"negative_3\"], row[\"negative_4\"], row[\"negative_5\"], row[\"negative_6\"], row[\"negative_7\"], row[\"negative_8\"]]\n",
        "  labels = np.array(row[\"label\"])\n",
        "  # labels[labels<0.5] = 0.5\n",
        "\n",
        "  pairs = sorted(list(zip(negatives, labels)), key=lambda x: x[1])\n",
        "  negatives_sorted, labels_sorted = [x[0] for x in pairs], [max(x[1], 0.5) for x in pairs]\n",
        "\n",
        "  ds_rows.append({\n",
        "      \"query_id\": row[\"query_id\"],\n",
        "      \"query\": row[\"query\"],\n",
        "      \"positive\": row[\"positive\"],\n",
        "      \"negative_1\": negatives_sorted[0],\n",
        "      \"negative_2\": negatives_sorted[2],\n",
        "      \"negative_3\": negatives_sorted[4],\n",
        "      \"negative_4\": negatives_sorted[6],\n",
        "      \"label\": [labels_sorted[0], labels_sorted[2], labels_sorted[4], labels_sorted[6]]\n",
        "    })\n",
        "\n",
        "relevance_dataset = Dataset.from_list(ds_rows)#.shuffle(seed=42)#.sort(\"query_id\")#.select(range(4000))\n",
        "relevance_dataset"
      ]
    },
    {
      "cell_type": "code",
      "execution_count": null,
      "metadata": {
        "id": "PVCsz679yiFT",
        "colab": {
          "base_uri": "https://localhost:8080/"
        },
        "outputId": "6217239f-906a-40b6-f0d5-3877e25b0079"
      },
      "outputs": [
        {
          "output_type": "execute_result",
          "data": {
            "text/plain": [
              "{'query_id': 111652,\n",
              " 'query': 'could Nexium antacid cause sweating',\n",
              " 'positive': 'Summary: Sweating-excessive is found among people who take Nexium, especially for people who are 60+ old, have been taking the drug for.Personalized health information: on eHealthMe you can find out what patients like me (same gender, age) reported their drugs and conditions on FDA and social media since 1977. I am a 56 year old female who has been taking Nexium for 13 years and has been plagued by shingles.. 2  Support group for people who have Sweating-Excessive.  3 Been on warfarin for 6 days and having sweating at times.',\n",
              " 'negative_1': 'More questions for: Nexium, Sweating-excessive. You may be interested at these reviews (Write a review): 1  Xarelto caused shortness of breath. 2  After taking Xarelto for 3 years I suddently experienced shortness of breath, sweating and pain in my arms. 3  Myrbetriq & hyperhidrosis (night sweats). I am a 56 year old female who has been taking Nexium for 13 years and has been plagued by shingles.. 2  Support group for people who have Sweating-Excessive.  3 Been on warfarin for 6 days and having sweating at times.',\n",
              " 'negative_2': 'NEXIUM may help your acid-related symptoms, but you could still have serious stomach problems. Talk with your doctor. NEXIUM can cause serious side effects, including: 1  Diarrhea. 2  NEXIUM may increase your risk of getting severe diarrhea.3  This diarrhea may be caused by an infection (Clostridium difficile) in your intestines.EXIUM can cause serious side effects, including: 1  Diarrhea. 2  NEXIUM may increase your risk of getting severe diarrhea. 3  This diarrhea may be caused by an infection (Clostridium difficile) in your intestines.',\n",
              " 'negative_3': 'Treatment for sweating. The treatment you have will depend on the cause of your sweating. If you have an infection, antibiotics will treat the infection and stop the sweating. If your sweating is due to cancer, treating the cancer can get rid of the sweating.If you have sweating because treatment has changed your hormone levels, it may settle down after a few weeks or months, once your body is used to the treatment. Talk to your doctor or nurse about your sweats.nfection. Infection is one of the most common causes of sweating in people who have cancer. Infection can give you a high temperature and your body sweats to try and reduce it. Treating the infection can control or stop the sweating.',\n",
              " 'negative_4': 'Esomeprazole is used to treat certain stomach and esophagus problems (such as acid reflux, ulcers). It works by decreasing the amount of acid your stomach makes.ide Effects. See also Precautions section. Headache or abdominal pain may occur. If any of these effects persist or worsen, tell your doctor or pharmacist promptly. Remember that your doctor has prescribed this medication because he or she has judged that the benefit to you is greater than the risk of side effects.',\n",
              " 'label': [0.5, 6.390576362609863, 11.97206974029541, 16.409034729003906]}"
            ]
          },
          "metadata": {},
          "execution_count": 9
        }
      ],
      "source": [
        "relevance_dataset[0]"
      ]
    },
    {
      "cell_type": "markdown",
      "metadata": {
        "id": "gtTHbsF7yjxC"
      },
      "source": [
        "### **Initialize SPLADE**"
      ]
    },
    {
      "cell_type": "code",
      "execution_count": null,
      "metadata": {
        "id": "er0x8txrynoc",
        "colab": {
          "base_uri": "https://localhost:8080/"
        },
        "outputId": "18446e84-f8ad-4924-b9db-f0f70da84f9e"
      },
      "outputs": [
        {
          "output_type": "execute_result",
          "data": {
            "text/plain": [
              "SparseEncoder(\n",
              "  (0): MLMTransformer({'max_seq_length': 512, 'do_lower_case': False, 'architecture': 'BertForMaskedLM'})\n",
              "  (1): SpladePooling({'pooling_strategy': 'max', 'activation_function': 'relu', 'word_embedding_dimension': None})\n",
              ")"
            ]
          },
          "metadata": {},
          "execution_count": 10
        }
      ],
      "source": [
        "from sentence_transformers import SparseEncoder, SparseEncoderModelCardData\n",
        "from sentence_transformers.sparse_encoder.models import MLMTransformer, SpladePooling\n",
        "\n",
        "#1. Load a model to finetune with 2. (Optional) model card data\n",
        "\n",
        "model = SparseEncoder(\n",
        "    modules=[\n",
        "        MLMTransformer(\"prajjwal1/bert-tiny\"),\n",
        "        SpladePooling(pooling_strategy=\"max\")\n",
        "    ],\n",
        "    model_card_data=SparseEncoderModelCardData(\n",
        "        language=\"en\",\n",
        "        license=\"mit\",\n",
        "        model_name=\"SPLADE-BERT-Tiny-Distil\",\n",
        "    )\n",
        ")\n",
        "\n",
        "model"
      ]
    },
    {
      "cell_type": "code",
      "execution_count": null,
      "metadata": {
        "id": "fBSrGPnC6YSW",
        "colab": {
          "base_uri": "https://localhost:8080/"
        },
        "outputId": "26fa5bee-abe5-4803-abcc-74014e7fd5fb"
      },
      "outputs": [
        {
          "output_type": "stream",
          "name": "stdout",
          "text": [
            "BERT Mini size: 4.4M parameters\n"
          ]
        }
      ],
      "source": [
        "model_size = sum(t.numel() for t in model.parameters())\n",
        "print(f\"BERT Mini size: {model_size/1_000_000:.1f}M parameters\")"
      ]
    },
    {
      "cell_type": "code",
      "execution_count": null,
      "metadata": {
        "id": "t-fDyz5iyqX6"
      },
      "outputs": [],
      "source": [
        "from sentence_transformers.sparse_encoder.losses import SparseMarginMSELoss, SpladeLoss\n",
        "\n",
        "# 4. Define a loss function\n",
        "loss = SpladeLoss(\n",
        "    model=model,\n",
        "    loss=SparseMarginMSELoss(model=model),\n",
        "    query_regularizer_weight=5e-1,\n",
        "    document_regularizer_weight=3e-1,\n",
        ")"
      ]
    },
    {
      "cell_type": "markdown",
      "metadata": {
        "id": "E9LgvET7ythB"
      },
      "source": [
        "### **Evaluator**"
      ]
    },
    {
      "cell_type": "code",
      "execution_count": null,
      "metadata": {
        "id": "H9RhWGRCyv5P",
        "colab": {
          "base_uri": "https://localhost:8080/"
        },
        "outputId": "398aeb61-7985-4083-c379-c1099d80cb02"
      },
      "outputs": [
        {
          "output_type": "execute_result",
          "data": {
            "text/plain": [
              "(49036, 5000, 5000)"
            ]
          },
          "metadata": {},
          "execution_count": 13
        }
      ],
      "source": [
        "import hashlib\n",
        "\n",
        "def md5(text):\n",
        "  res = hashlib.md5(text.encode())\n",
        "  return res.hexdigest()\n",
        "\n",
        "dev_dataset = test_dataset.select(range(5_000))\n",
        "\n",
        "dev_queries = dict(zip(dev_dataset[\"query_id\"], dev_dataset[\"query\"]))\n",
        "\n",
        "dev_corpus = {}\n",
        "for row in dev_dataset:\n",
        "  for positive in row[\"positives\"]:\n",
        "    dev_corpus[md5(positive)] = positive\n",
        "\n",
        "  for negative in row[\"negatives\"]:\n",
        "    dev_corpus[md5(negative)] = negative\n",
        "\n",
        "dev_relevant_docs = dict(\n",
        "    zip(\n",
        "      dev_dataset[\"query_id\"],\n",
        "      [[md5(pos) for pos in positives] for positives in dev_dataset[\"positives\"]]\n",
        "    )\n",
        "  )\n",
        "\n",
        "len(dev_corpus), len(dev_queries), len(dev_relevant_docs)"
      ]
    },
    {
      "cell_type": "code",
      "execution_count": null,
      "metadata": {
        "id": "06B8vpXVyyuQ"
      },
      "outputs": [],
      "source": [
        "from sentence_transformers.sparse_encoder.evaluation import SparseInformationRetrievalEvaluator\n",
        "\n",
        "dev_evaluator = SparseInformationRetrievalEvaluator(\n",
        "    queries=dev_queries,\n",
        "    corpus=dev_corpus,\n",
        "    relevant_docs=dev_relevant_docs,\n",
        "    batch_size=64,\n",
        "    corpus_chunk_size=2048,\n",
        "    show_progress_bar=False\n",
        ")"
      ]
    },
    {
      "cell_type": "markdown",
      "metadata": {
        "id": "0kfHd3yiy08T"
      },
      "source": [
        "### **Train**"
      ]
    },
    {
      "cell_type": "code",
      "execution_count": null,
      "metadata": {
        "id": "ddFMTZvhy3Kr",
        "colab": {
          "base_uri": "https://localhost:8080/",
          "height": 54,
          "referenced_widgets": [
            "1f47641de500483c8605e1ec17a5b92c",
            "c54cdd93564e4f73b212cd3efbec9138",
            "1618057d419b4926b8cec325d1a8eb41",
            "8efff696bc1d432d9a3440de169eb0b3",
            "ca49b431c66e499786efec7d972a55f7",
            "1b727f7e4890443c89659ed92a563615",
            "565a6e5f543f46189065ba83309e508d",
            "0ff7bc66e9a9491fb16de0c7b16960d6",
            "e2860f5254d14a0ab0525b9280a2cc01",
            "88c4eab8ffe44c8393b40bf9e35813ed",
            "eca44ff2a4fe4167a79fa1b2ba3a71c3"
          ]
        },
        "outputId": "a7980d21-a346-4be6-cc4e-4b83fc437f96"
      },
      "outputs": [
        {
          "output_type": "stream",
          "name": "stderr",
          "text": [
            "WARNING:sentence_transformers.sparse_encoder.trainer:SpladeLoss detected without SpladeRegularizerWeightSchedulerCallback. Adding default SpladeRegularizerWeightSchedulerCallback to gradually increase weight values from 0 to their maximum.\n"
          ]
        },
        {
          "output_type": "display_data",
          "data": {
            "text/plain": [
              "Computing widget examples:   0%|          | 0/1 [00:00<?, ?example/s]"
            ],
            "application/vnd.jupyter.widget-view+json": {
              "version_major": 2,
              "version_minor": 0,
              "model_id": "1f47641de500483c8605e1ec17a5b92c"
            }
          },
          "metadata": {}
        }
      ],
      "source": [
        "from sentence_transformers import SparseEncoderTrainer, SparseEncoderTrainingArguments\n",
        "from sentence_transformers.training_args import BatchSamplers\n",
        "\n",
        "num_epochs = 6\n",
        "batch_size = 48\n",
        "# gradient_accum_steps = 4\n",
        "\n",
        "# 5. (Optional) Specify training arguments\n",
        "run_name = \"SPLADE-BERT-Tiny-Distil\"\n",
        "args = SparseEncoderTrainingArguments(\n",
        "    # Required parameter:\n",
        "    output_dir=f\"models/{run_name}\",\n",
        "    # Optional training parameters:\n",
        "    num_train_epochs=num_epochs,\n",
        "    per_device_train_batch_size=batch_size,\n",
        "    # gradient_accumulation_steps=gradient_accum_steps,\n",
        "    per_device_eval_batch_size=batch_size,\n",
        "    learning_rate=8e-5,\n",
        "    warmup_ratio=0.025,\n",
        "    lr_scheduler_type=\"cosine\",\n",
        "    optim=\"adamw_torch_fused\",\n",
        "    fp16=True,  # Set to False if you get an error that your GPU can't run on FP16\n",
        "    bf16=False,  # Set to True if you have a GPU that supports BF16\n",
        "    # batch_sampler=BatchSamplers.NO_DUPLICATES,  # MultipleNegativesRankingLoss benefits from no duplicate samples in a batch\n",
        "    # Optional tracking/debugging parameters:\n",
        "    eval_strategy=\"epoch\",\n",
        "    save_strategy=\"epoch\",\n",
        "    logging_strategy=\"epoch\",\n",
        "    save_total_limit=3,\n",
        "    # push_to_hub=True,\n",
        "    run_name=run_name,  # Will be used in W&B if `wandb` is installed\n",
        "    load_best_model_at_end=True,\n",
        "    metric_for_best_model=\"dot_mrr@10\",\n",
        ")\n",
        "\n",
        "# 7. Create a trainer\n",
        "trainer = SparseEncoderTrainer(\n",
        "    model=model,\n",
        "    args=args,\n",
        "    train_dataset=relevance_dataset.select_columns(['query', 'positive', 'negative_1', 'negative_2', 'negative_3', 'negative_4', 'label']), #\n",
        "    loss=loss,\n",
        "    evaluator=dev_evaluator,\n",
        ")"
      ]
    },
    {
      "cell_type": "code",
      "execution_count": null,
      "metadata": {
        "id": "G_UTlWgWy9sD"
      },
      "outputs": [],
      "source": [
        "# Train\n",
        "trainer.train()"
      ]
    },
    {
      "cell_type": "code",
      "execution_count": null,
      "metadata": {
        "id": "fyxIXeFvy-q3"
      },
      "outputs": [],
      "source": [
        "# 9. Save the trained model\n",
        "model.save_pretrained(f\"./final\")"
      ]
    },
    {
      "cell_type": "code",
      "execution_count": null,
      "metadata": {
        "id": "A8SQkLx3zAw8"
      },
      "outputs": [],
      "source": [
        "# 10. (Optional) Push it to the Hugging Face Hub\n",
        "# from google.colab import userdata\n",
        "\n",
        "# # push model to hub\n",
        "# trainer.model.push_to_hub(run_name, exist_ok=True, private=True, token=userdata.get(\"HF_WRITE_TOKEN\"))"
      ]
    },
    {
      "cell_type": "code",
      "execution_count": null,
      "metadata": {
        "id": "taaFLTZ86fK_"
      },
      "outputs": [],
      "source": []
    }
  ],
  "metadata": {
    "accelerator": "GPU",
    "colab": {
      "gpuType": "A100",
      "provenance": []
    },
    "kernelspec": {
      "display_name": "Python 3",
      "name": "python3"
    },
    "language_info": {
      "name": "python"
    },
    "widgets": {
      "application/vnd.jupyter.widget-state+json": {
        "1f47641de500483c8605e1ec17a5b92c": {
          "model_module": "@jupyter-widgets/controls",
          "model_name": "HBoxModel",
          "model_module_version": "1.5.0",
          "state": {
            "_dom_classes": [],
            "_model_module": "@jupyter-widgets/controls",
            "_model_module_version": "1.5.0",
            "_model_name": "HBoxModel",
            "_view_count": null,
            "_view_module": "@jupyter-widgets/controls",
            "_view_module_version": "1.5.0",
            "_view_name": "HBoxView",
            "box_style": "",
            "children": [
              "IPY_MODEL_c54cdd93564e4f73b212cd3efbec9138",
              "IPY_MODEL_1618057d419b4926b8cec325d1a8eb41",
              "IPY_MODEL_8efff696bc1d432d9a3440de169eb0b3"
            ],
            "layout": "IPY_MODEL_ca49b431c66e499786efec7d972a55f7"
          }
        },
        "c54cdd93564e4f73b212cd3efbec9138": {
          "model_module": "@jupyter-widgets/controls",
          "model_name": "HTMLModel",
          "model_module_version": "1.5.0",
          "state": {
            "_dom_classes": [],
            "_model_module": "@jupyter-widgets/controls",
            "_model_module_version": "1.5.0",
            "_model_name": "HTMLModel",
            "_view_count": null,
            "_view_module": "@jupyter-widgets/controls",
            "_view_module_version": "1.5.0",
            "_view_name": "HTMLView",
            "description": "",
            "description_tooltip": null,
            "layout": "IPY_MODEL_1b727f7e4890443c89659ed92a563615",
            "placeholder": "​",
            "style": "IPY_MODEL_565a6e5f543f46189065ba83309e508d",
            "value": "Computing widget examples: 100%"
          }
        },
        "1618057d419b4926b8cec325d1a8eb41": {
          "model_module": "@jupyter-widgets/controls",
          "model_name": "FloatProgressModel",
          "model_module_version": "1.5.0",
          "state": {
            "_dom_classes": [],
            "_model_module": "@jupyter-widgets/controls",
            "_model_module_version": "1.5.0",
            "_model_name": "FloatProgressModel",
            "_view_count": null,
            "_view_module": "@jupyter-widgets/controls",
            "_view_module_version": "1.5.0",
            "_view_name": "ProgressView",
            "bar_style": "",
            "description": "",
            "description_tooltip": null,
            "layout": "IPY_MODEL_0ff7bc66e9a9491fb16de0c7b16960d6",
            "max": 1,
            "min": 0,
            "orientation": "horizontal",
            "style": "IPY_MODEL_e2860f5254d14a0ab0525b9280a2cc01",
            "value": 1
          }
        },
        "8efff696bc1d432d9a3440de169eb0b3": {
          "model_module": "@jupyter-widgets/controls",
          "model_name": "HTMLModel",
          "model_module_version": "1.5.0",
          "state": {
            "_dom_classes": [],
            "_model_module": "@jupyter-widgets/controls",
            "_model_module_version": "1.5.0",
            "_model_name": "HTMLModel",
            "_view_count": null,
            "_view_module": "@jupyter-widgets/controls",
            "_view_module_version": "1.5.0",
            "_view_name": "HTMLView",
            "description": "",
            "description_tooltip": null,
            "layout": "IPY_MODEL_88c4eab8ffe44c8393b40bf9e35813ed",
            "placeholder": "​",
            "style": "IPY_MODEL_eca44ff2a4fe4167a79fa1b2ba3a71c3",
            "value": " 1/1 [00:00&lt;00:00,  8.96example/s]"
          }
        },
        "ca49b431c66e499786efec7d972a55f7": {
          "model_module": "@jupyter-widgets/base",
          "model_name": "LayoutModel",
          "model_module_version": "1.2.0",
          "state": {
            "_model_module": "@jupyter-widgets/base",
            "_model_module_version": "1.2.0",
            "_model_name": "LayoutModel",
            "_view_count": null,
            "_view_module": "@jupyter-widgets/base",
            "_view_module_version": "1.2.0",
            "_view_name": "LayoutView",
            "align_content": null,
            "align_items": null,
            "align_self": null,
            "border": null,
            "bottom": null,
            "display": null,
            "flex": null,
            "flex_flow": null,
            "grid_area": null,
            "grid_auto_columns": null,
            "grid_auto_flow": null,
            "grid_auto_rows": null,
            "grid_column": null,
            "grid_gap": null,
            "grid_row": null,
            "grid_template_areas": null,
            "grid_template_columns": null,
            "grid_template_rows": null,
            "height": null,
            "justify_content": null,
            "justify_items": null,
            "left": null,
            "margin": null,
            "max_height": null,
            "max_width": null,
            "min_height": null,
            "min_width": null,
            "object_fit": null,
            "object_position": null,
            "order": null,
            "overflow": null,
            "overflow_x": null,
            "overflow_y": null,
            "padding": null,
            "right": null,
            "top": null,
            "visibility": "hidden",
            "width": null
          }
        },
        "1b727f7e4890443c89659ed92a563615": {
          "model_module": "@jupyter-widgets/base",
          "model_name": "LayoutModel",
          "model_module_version": "1.2.0",
          "state": {
            "_model_module": "@jupyter-widgets/base",
            "_model_module_version": "1.2.0",
            "_model_name": "LayoutModel",
            "_view_count": null,
            "_view_module": "@jupyter-widgets/base",
            "_view_module_version": "1.2.0",
            "_view_name": "LayoutView",
            "align_content": null,
            "align_items": null,
            "align_self": null,
            "border": null,
            "bottom": null,
            "display": null,
            "flex": null,
            "flex_flow": null,
            "grid_area": null,
            "grid_auto_columns": null,
            "grid_auto_flow": null,
            "grid_auto_rows": null,
            "grid_column": null,
            "grid_gap": null,
            "grid_row": null,
            "grid_template_areas": null,
            "grid_template_columns": null,
            "grid_template_rows": null,
            "height": null,
            "justify_content": null,
            "justify_items": null,
            "left": null,
            "margin": null,
            "max_height": null,
            "max_width": null,
            "min_height": null,
            "min_width": null,
            "object_fit": null,
            "object_position": null,
            "order": null,
            "overflow": null,
            "overflow_x": null,
            "overflow_y": null,
            "padding": null,
            "right": null,
            "top": null,
            "visibility": null,
            "width": null
          }
        },
        "565a6e5f543f46189065ba83309e508d": {
          "model_module": "@jupyter-widgets/controls",
          "model_name": "DescriptionStyleModel",
          "model_module_version": "1.5.0",
          "state": {
            "_model_module": "@jupyter-widgets/controls",
            "_model_module_version": "1.5.0",
            "_model_name": "DescriptionStyleModel",
            "_view_count": null,
            "_view_module": "@jupyter-widgets/base",
            "_view_module_version": "1.2.0",
            "_view_name": "StyleView",
            "description_width": ""
          }
        },
        "0ff7bc66e9a9491fb16de0c7b16960d6": {
          "model_module": "@jupyter-widgets/base",
          "model_name": "LayoutModel",
          "model_module_version": "1.2.0",
          "state": {
            "_model_module": "@jupyter-widgets/base",
            "_model_module_version": "1.2.0",
            "_model_name": "LayoutModel",
            "_view_count": null,
            "_view_module": "@jupyter-widgets/base",
            "_view_module_version": "1.2.0",
            "_view_name": "LayoutView",
            "align_content": null,
            "align_items": null,
            "align_self": null,
            "border": null,
            "bottom": null,
            "display": null,
            "flex": null,
            "flex_flow": null,
            "grid_area": null,
            "grid_auto_columns": null,
            "grid_auto_flow": null,
            "grid_auto_rows": null,
            "grid_column": null,
            "grid_gap": null,
            "grid_row": null,
            "grid_template_areas": null,
            "grid_template_columns": null,
            "grid_template_rows": null,
            "height": null,
            "justify_content": null,
            "justify_items": null,
            "left": null,
            "margin": null,
            "max_height": null,
            "max_width": null,
            "min_height": null,
            "min_width": null,
            "object_fit": null,
            "object_position": null,
            "order": null,
            "overflow": null,
            "overflow_x": null,
            "overflow_y": null,
            "padding": null,
            "right": null,
            "top": null,
            "visibility": null,
            "width": null
          }
        },
        "e2860f5254d14a0ab0525b9280a2cc01": {
          "model_module": "@jupyter-widgets/controls",
          "model_name": "ProgressStyleModel",
          "model_module_version": "1.5.0",
          "state": {
            "_model_module": "@jupyter-widgets/controls",
            "_model_module_version": "1.5.0",
            "_model_name": "ProgressStyleModel",
            "_view_count": null,
            "_view_module": "@jupyter-widgets/base",
            "_view_module_version": "1.2.0",
            "_view_name": "StyleView",
            "bar_color": null,
            "description_width": ""
          }
        },
        "88c4eab8ffe44c8393b40bf9e35813ed": {
          "model_module": "@jupyter-widgets/base",
          "model_name": "LayoutModel",
          "model_module_version": "1.2.0",
          "state": {
            "_model_module": "@jupyter-widgets/base",
            "_model_module_version": "1.2.0",
            "_model_name": "LayoutModel",
            "_view_count": null,
            "_view_module": "@jupyter-widgets/base",
            "_view_module_version": "1.2.0",
            "_view_name": "LayoutView",
            "align_content": null,
            "align_items": null,
            "align_self": null,
            "border": null,
            "bottom": null,
            "display": null,
            "flex": null,
            "flex_flow": null,
            "grid_area": null,
            "grid_auto_columns": null,
            "grid_auto_flow": null,
            "grid_auto_rows": null,
            "grid_column": null,
            "grid_gap": null,
            "grid_row": null,
            "grid_template_areas": null,
            "grid_template_columns": null,
            "grid_template_rows": null,
            "height": null,
            "justify_content": null,
            "justify_items": null,
            "left": null,
            "margin": null,
            "max_height": null,
            "max_width": null,
            "min_height": null,
            "min_width": null,
            "object_fit": null,
            "object_position": null,
            "order": null,
            "overflow": null,
            "overflow_x": null,
            "overflow_y": null,
            "padding": null,
            "right": null,
            "top": null,
            "visibility": null,
            "width": null
          }
        },
        "eca44ff2a4fe4167a79fa1b2ba3a71c3": {
          "model_module": "@jupyter-widgets/controls",
          "model_name": "DescriptionStyleModel",
          "model_module_version": "1.5.0",
          "state": {
            "_model_module": "@jupyter-widgets/controls",
            "_model_module_version": "1.5.0",
            "_model_name": "DescriptionStyleModel",
            "_view_count": null,
            "_view_module": "@jupyter-widgets/base",
            "_view_module_version": "1.2.0",
            "_view_name": "StyleView",
            "description_width": ""
          }
        }
      }
    }
  },
  "nbformat": 4,
  "nbformat_minor": 0
}