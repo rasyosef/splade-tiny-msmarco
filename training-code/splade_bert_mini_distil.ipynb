{
  "cells": [
    {
      "cell_type": "code",
      "execution_count": null,
      "metadata": {
        "colab": {
          "base_uri": "https://localhost:8080/"
        },
        "id": "aYmJGS-ZxWiN",
        "outputId": "81001698-bde9-4e6a-ad28-91e6c8405fc7"
      },
      "outputs": [],
      "source": [
        "! pip install -Uq huggingface_hub transformers sentence_transformers datasets"
      ]
    },
    {
      "cell_type": "code",
      "execution_count": null,
      "metadata": {
        "id": "TsbURBFkxzgc"
      },
      "outputs": [],
      "source": [
        "import wandb\n",
        "wandb.init(mode=\"disabled\")"
      ]
    },
    {
      "cell_type": "code",
      "execution_count": null,
      "metadata": {
        "colab": {
          "base_uri": "https://localhost:8080/"
        },
        "id": "sGBLiL5aXn-o",
        "outputId": "74517e93-a5f2-4586-fb51-be5d1f0e5279"
      },
      "outputs": [
        {
          "name": "stdout",
          "output_type": "stream",
          "text": [
            "rm: cannot remove 'models': No such file or directory\n"
          ]
        }
      ],
      "source": [
        "!rm -r models"
      ]
    },
    {
      "cell_type": "markdown",
      "metadata": {
        "id": "_CFBm3Pvx4W1"
      },
      "source": [
        "### **Load Dataset**"
      ]
    },
    {
      "cell_type": "code",
      "execution_count": null,
      "metadata": {
        "id": "X1rVNL19x0KG"
      },
      "outputs": [],
      "source": [
        "from datasets import load_dataset\n",
        "\n",
        "msmarco = load_dataset(\"rasyosef/msmarco\")\n",
        "msmarco"
      ]
    },
    {
      "cell_type": "code",
      "execution_count": null,
      "metadata": {
        "id": "0CmC69G1xR9b"
      },
      "outputs": [],
      "source": [
        "msmarco_distil = load_dataset(\"yosefw/msmarco-train-distil-v2\", split=\"train\")\n",
        "msmarco_distil"
      ]
    },
    {
      "cell_type": "code",
      "execution_count": null,
      "metadata": {
        "colab": {
          "base_uri": "https://localhost:8080/"
        },
        "id": "y20KYqfix-vr",
        "outputId": "19a4a92b-7ada-4f3a-cdcf-d84ebdf0cd7a"
      },
      "outputs": [
        {
          "data": {
            "text/plain": [
              "(Dataset({\n",
              "     features: ['query_id', 'query', 'positive', 'negative_1', 'negative_2', 'negative_3', 'negative_4', 'negative_5', 'negative_6', 'negative_7', 'negative_8', 'label'],\n",
              "     num_rows: 250000\n",
              " }),\n",
              " Dataset({\n",
              "     features: ['query_id', 'query', 'positives', 'negatives'],\n",
              "     num_rows: 55577\n",
              " }))"
            ]
          },
          "execution_count": 6,
          "metadata": {},
          "output_type": "execute_result"
        }
      ],
      "source": [
        "train_dataset = msmarco_distil.shuffle(seed=42).select(range(250_000))\n",
        "test_dataset = msmarco[\"dev\"]#.select(range(10_000))\n",
        "\n",
        "train_dataset, test_dataset"
      ]
    },
    {
      "cell_type": "code",
      "execution_count": null,
      "metadata": {
        "colab": {
          "base_uri": "https://localhost:8080/"
        },
        "id": "wgcFB1TXyB6U",
        "outputId": "cefbb12e-cb83-4849-fe7f-dee82901cdf5"
      },
      "outputs": [
        {
          "data": {
            "text/plain": [
              "(250000, 55577)"
            ]
          },
          "execution_count": 7,
          "metadata": {},
          "output_type": "execute_result"
        }
      ],
      "source": [
        "len(set(train_dataset['query_id'])), len(set(test_dataset['query_id']))"
      ]
    },
    {
      "cell_type": "code",
      "execution_count": null,
      "metadata": {
        "colab": {
          "base_uri": "https://localhost:8080/"
        },
        "id": "c3PXFWx7yExd",
        "outputId": "390c419f-f1d6-444a-86db-6bcee1be0958"
      },
      "outputs": [],
      "source": [
        "from datasets import Dataset\n",
        "import numpy as np\n",
        "from tqdm import tqdm\n",
        "import random\n",
        "\n",
        "ds_rows = []\n",
        "for row in tqdm(train_dataset):\n",
        "  negatives = [row[\"negative_1\"], row[\"negative_2\"], row[\"negative_3\"], row[\"negative_4\"], row[\"negative_5\"], row[\"negative_6\"], row[\"negative_7\"], row[\"negative_8\"]]\n",
        "  labels = np.array(row[\"label\"])\n",
        "  # labels[labels<0.5] = 0.5\n",
        "\n",
        "  pairs = sorted(list(zip(negatives, labels)), key=lambda x: x[1])\n",
        "  negatives_sorted, labels_sorted = [x[0] for x in pairs], [max(x[1], 1.0) for x in pairs]\n",
        "\n",
        "  ds_rows.append({\n",
        "      \"query_id\": row[\"query_id\"],\n",
        "      \"query\": row[\"query\"],\n",
        "      \"positive\": row[\"positive\"],\n",
        "      \"negative_1\": negatives_sorted[0],\n",
        "      \"negative_2\": negatives_sorted[1],\n",
        "      \"negative_3\": negatives_sorted[4],\n",
        "      \"negative_4\": negatives_sorted[7],\n",
        "      \"label\": [labels_sorted[0], labels_sorted[1], labels_sorted[4], labels_sorted[7]]\n",
        "    })\n",
        "\n",
        "relevance_dataset = Dataset.from_list(ds_rows)#.shuffle(seed=42)#.sort(\"query_id\")#.select(range(4000))\n",
        "relevance_dataset"
      ]
    },
    {
      "cell_type": "code",
      "execution_count": null,
      "metadata": {
        "colab": {
          "base_uri": "https://localhost:8080/"
        },
        "id": "PVCsz679yiFT",
        "outputId": "8282ca64-1177-4623-9990-d92c70bd99c0"
      },
      "outputs": [
        {
          "data": {
            "text/plain": [
              "{'query_id': 1182558,\n",
              " 'query': 'heart specialists in ridgeland ms',\n",
              " 'positive': 'Dr. George Reynolds Jr, MD is a cardiology specialist in Ridgeland, MS and has been practicing for 35 years. He graduated from Vanderbilt University School Of Medicine in 1977 and specializes in cardiology and internal medicine.',\n",
              " 'negative_1': \"Dr. James Kramer is a Internist in Ridgeland, MS. Find Dr. Kramer's phone number, address and more.\",\n",
              " 'negative_2': \"Dr. James Kramer is an internist in Ridgeland, Mississippi. He received his medical degree from Loma Linda University School of Medicine and has been in practice for more than 20 years. Dr. James Kramer's Details\",\n",
              " 'negative_3': 'Chronic Pulmonary Heart Diseases (incl. Pulmonary Hypertension) Coarctation of the Aorta; Congenital Aortic Valve Disorders; Congenital Heart Defects; Congenital Heart Disease; Congestive Heart Failure; Coronary Artery Disease (CAD) Endocarditis; Heart Attack (Acute Myocardial Infarction) Heart Disease; Heart Murmur; Heart Palpitations; Hyperlipidemia; Hypertension',\n",
              " 'negative_4': 'A growing shortage of primary care doctors means you might have to look harder for ongoing care. How to Read an OTC Medication Label Purvi Parikh, M.D. | Feb. 12, 2018',\n",
              " 'label': [6.058592796325684,\n",
              "  6.587987422943115,\n",
              "  19.88274383544922,\n",
              "  20.211898803710938]}"
            ]
          },
          "execution_count": 9,
          "metadata": {},
          "output_type": "execute_result"
        }
      ],
      "source": [
        "relevance_dataset[0]"
      ]
    },
    {
      "cell_type": "markdown",
      "metadata": {
        "id": "gtTHbsF7yjxC"
      },
      "source": [
        "### **Initialize SPLADE**"
      ]
    },
    {
      "cell_type": "code",
      "execution_count": null,
      "metadata": {
        "id": "er0x8txrynoc"
      },
      "outputs": [],
      "source": [
        "from sentence_transformers import SparseEncoder, SparseEncoderModelCardData\n",
        "from sentence_transformers.sparse_encoder.models import MLMTransformer, SpladePooling\n",
        "\n",
        "#1. Load a model to finetune with 2. (Optional) model card data\n",
        "\n",
        "model = SparseEncoder(\n",
        "    modules=[\n",
        "        MLMTransformer(\"prajjwal1/bert-mini\"),\n",
        "        SpladePooling(pooling_strategy=\"max\")\n",
        "    ],\n",
        "    model_card_data=SparseEncoderModelCardData(\n",
        "        language=\"en\",\n",
        "        license=\"mit\",\n",
        "        model_name=\"SPLADE-BERT-Mini-Distil\",\n",
        "    )\n",
        ")\n",
        "\n",
        "model"
      ]
    },
    {
      "cell_type": "code",
      "execution_count": null,
      "metadata": {
        "colab": {
          "base_uri": "https://localhost:8080/"
        },
        "id": "fBSrGPnC6YSW",
        "outputId": "dc758a88-9e94-4b1c-e116-06474e32791a"
      },
      "outputs": [
        {
          "name": "stdout",
          "output_type": "stream",
          "text": [
            "BERT Mini size: 11.2M parameters\n"
          ]
        }
      ],
      "source": [
        "model_size = sum(t.numel() for t in model.parameters())\n",
        "print(f\"BERT Mini size: {model_size/1_000_000:.1f}M parameters\")"
      ]
    },
    {
      "cell_type": "code",
      "execution_count": null,
      "metadata": {
        "id": "t-fDyz5iyqX6"
      },
      "outputs": [],
      "source": [
        "from sentence_transformers.sparse_encoder.losses import SparseMarginMSELoss, SpladeLoss\n",
        "\n",
        "# 4. Define a loss function\n",
        "loss = SpladeLoss(\n",
        "    model=model,\n",
        "    loss=SparseMarginMSELoss(model=model),\n",
        "    query_regularizer_weight=5e-1,\n",
        "    document_regularizer_weight=3e-1,\n",
        ")"
      ]
    },
    {
      "cell_type": "markdown",
      "metadata": {
        "id": "E9LgvET7ythB"
      },
      "source": [
        "### **Evaluator**"
      ]
    },
    {
      "cell_type": "code",
      "execution_count": null,
      "metadata": {
        "colab": {
          "base_uri": "https://localhost:8080/"
        },
        "id": "H9RhWGRCyv5P",
        "outputId": "bbde8221-1ca3-46d9-814a-0f58fdda9cd4"
      },
      "outputs": [
        {
          "data": {
            "text/plain": [
              "(49036, 5000, 5000)"
            ]
          },
          "execution_count": 13,
          "metadata": {},
          "output_type": "execute_result"
        }
      ],
      "source": [
        "import hashlib\n",
        "\n",
        "def md5(text):\n",
        "  res = hashlib.md5(text.encode())\n",
        "  return res.hexdigest()\n",
        "\n",
        "dev_dataset = test_dataset.select(range(5_000))\n",
        "\n",
        "dev_queries = dict(zip(dev_dataset[\"query_id\"], dev_dataset[\"query\"]))\n",
        "\n",
        "dev_corpus = {}\n",
        "for row in dev_dataset:\n",
        "  for positive in row[\"positives\"]:\n",
        "    dev_corpus[md5(positive)] = positive\n",
        "\n",
        "  for negative in row[\"negatives\"]:\n",
        "    dev_corpus[md5(negative)] = negative\n",
        "\n",
        "dev_relevant_docs = dict(\n",
        "    zip(\n",
        "      dev_dataset[\"query_id\"],\n",
        "      [[md5(pos) for pos in positives] for positives in dev_dataset[\"positives\"]]\n",
        "    )\n",
        "  )\n",
        "\n",
        "len(dev_corpus), len(dev_queries), len(dev_relevant_docs)"
      ]
    },
    {
      "cell_type": "code",
      "execution_count": null,
      "metadata": {
        "id": "06B8vpXVyyuQ"
      },
      "outputs": [],
      "source": [
        "from sentence_transformers.sparse_encoder.evaluation import SparseInformationRetrievalEvaluator\n",
        "\n",
        "dev_evaluator = SparseInformationRetrievalEvaluator(\n",
        "    queries=dev_queries,\n",
        "    corpus=dev_corpus,\n",
        "    relevant_docs=dev_relevant_docs,\n",
        "    batch_size=64,\n",
        "    corpus_chunk_size=2048,\n",
        "    show_progress_bar=False\n",
        ")"
      ]
    },
    {
      "cell_type": "markdown",
      "metadata": {
        "id": "0kfHd3yiy08T"
      },
      "source": [
        "### **Train**"
      ]
    },
    {
      "cell_type": "code",
      "execution_count": null,
      "metadata": {
        "colab": {
          "base_uri": "https://localhost:8080/",
          "height": 54,
          "referenced_widgets": [
            "3bc6e58c2052403ca7359b70fcbf4f02",
            "40d467a616344bcfa9aaeb2eeac2d908",
            "9f2bae5e75a0441cb04c3716cec5b149",
            "86e9763e126f4092937e8df630e21d14",
            "ffae8faaed3d4778800d078276ccc034",
            "02521743e0a14e83bc3e9ce380f10990",
            "2381c4b3f627446ea00ff2745f0b3cd3",
            "d49733d03cd94da0b4b2e1bffb143733",
            "f156de3460634baabbb53b5f42727656",
            "d8d8b1f045cc47c38b5943dbe2207b05",
            "fb455af2a8fe41c28b5efa85c8a30193"
          ]
        },
        "id": "ddFMTZvhy3Kr",
        "outputId": "edfb5667-ec75-4d6f-918d-e8a3853728ec"
      },
      "outputs": [],
      "source": [
        "from sentence_transformers import SparseEncoderTrainer, SparseEncoderTrainingArguments\n",
        "from sentence_transformers.training_args import BatchSamplers\n",
        "\n",
        "num_epochs = 6\n",
        "batch_size = 48\n",
        "# gradient_accum_steps = 4\n",
        "\n",
        "# 5. (Optional) Specify training arguments\n",
        "run_name = \"SPLADE-BERT-Mini-distil\"\n",
        "args = SparseEncoderTrainingArguments(\n",
        "    # Required parameter:\n",
        "    output_dir=f\"models/{run_name}\",\n",
        "    # Optional training parameters:\n",
        "    num_train_epochs=num_epochs,\n",
        "    per_device_train_batch_size=batch_size,\n",
        "    # gradient_accumulation_steps=gradient_accum_steps,\n",
        "    per_device_eval_batch_size=batch_size,\n",
        "    learning_rate=8e-5,\n",
        "    warmup_ratio=0.025,\n",
        "    lr_scheduler_type=\"cosine\",\n",
        "    optim=\"adamw_torch_fused\",\n",
        "    fp16=True,  # Set to False if you get an error that your GPU can't run on FP16\n",
        "    bf16=False,  # Set to True if you have a GPU that supports BF16\n",
        "    # batch_sampler=BatchSamplers.NO_DUPLICATES,  # MultipleNegativesRankingLoss benefits from no duplicate samples in a batch\n",
        "    # Optional tracking/debugging parameters:\n",
        "    eval_strategy=\"epoch\",\n",
        "    save_strategy=\"epoch\",\n",
        "    logging_strategy=\"epoch\",\n",
        "    save_total_limit=3,\n",
        "    # push_to_hub=True,\n",
        "    run_name=run_name,  # Will be used in W&B if `wandb` is installed\n",
        "    load_best_model_at_end=True,\n",
        "    metric_for_best_model=\"dot_mrr@10\",\n",
        ")\n",
        "\n",
        "# 7. Create a trainer\n",
        "trainer = SparseEncoderTrainer(\n",
        "    model=model,\n",
        "    args=args,\n",
        "    train_dataset=relevance_dataset.select_columns(['query', 'positive', 'negative_1', 'negative_2', 'negative_3', 'negative_4', 'label']), #\n",
        "    loss=loss,\n",
        "    evaluator=dev_evaluator,\n",
        ")"
      ]
    },
    {
      "cell_type": "code",
      "execution_count": null,
      "metadata": {
        "id": "G_UTlWgWy9sD"
      },
      "outputs": [],
      "source": [
        "# Train\n",
        "trainer.train()"
      ]
    },
    {
      "cell_type": "code",
      "execution_count": null,
      "metadata": {
        "id": "fyxIXeFvy-q3"
      },
      "outputs": [],
      "source": [
        "# 9. Save the trained model\n",
        "model.save_pretrained(f\"./final\")"
      ]
    },
    {
      "cell_type": "code",
      "execution_count": null,
      "metadata": {
        "id": "A8SQkLx3zAw8"
      },
      "outputs": [],
      "source": [
        "# 10. (Optional) Push it to the Hugging Face Hub\n",
        "# from google.colab import userdata\n",
        "\n",
        "# # push model to hub\n",
        "# trainer.model.push_to_hub(run_name, exist_ok=True, private=True, token=userdata.get(\"HF_WRITE_TOKEN\"))"
      ]
    },
    {
      "cell_type": "code",
      "execution_count": null,
      "metadata": {
        "id": "taaFLTZ86fK_"
      },
      "outputs": [],
      "source": []
    }
  ],
  "metadata": {
    "accelerator": "GPU",
    "colab": {
      "gpuType": "A100",
      "provenance": []
    },
    "kernelspec": {
      "display_name": "Python 3",
      "name": "python3"
    },
    "language_info": {
      "name": "python"
    },
    "widgets": {
      "application/vnd.jupyter.widget-state+json": {
        "02521743e0a14e83bc3e9ce380f10990": {
          "model_module": "@jupyter-widgets/base",
          "model_module_version": "1.2.0",
          "model_name": "LayoutModel",
          "state": {
            "_model_module": "@jupyter-widgets/base",
            "_model_module_version": "1.2.0",
            "_model_name": "LayoutModel",
            "_view_count": null,
            "_view_module": "@jupyter-widgets/base",
            "_view_module_version": "1.2.0",
            "_view_name": "LayoutView",
            "align_content": null,
            "align_items": null,
            "align_self": null,
            "border": null,
            "bottom": null,
            "display": null,
            "flex": null,
            "flex_flow": null,
            "grid_area": null,
            "grid_auto_columns": null,
            "grid_auto_flow": null,
            "grid_auto_rows": null,
            "grid_column": null,
            "grid_gap": null,
            "grid_row": null,
            "grid_template_areas": null,
            "grid_template_columns": null,
            "grid_template_rows": null,
            "height": null,
            "justify_content": null,
            "justify_items": null,
            "left": null,
            "margin": null,
            "max_height": null,
            "max_width": null,
            "min_height": null,
            "min_width": null,
            "object_fit": null,
            "object_position": null,
            "order": null,
            "overflow": null,
            "overflow_x": null,
            "overflow_y": null,
            "padding": null,
            "right": null,
            "top": null,
            "visibility": null,
            "width": null
          }
        },
        "2381c4b3f627446ea00ff2745f0b3cd3": {
          "model_module": "@jupyter-widgets/controls",
          "model_module_version": "1.5.0",
          "model_name": "DescriptionStyleModel",
          "state": {
            "_model_module": "@jupyter-widgets/controls",
            "_model_module_version": "1.5.0",
            "_model_name": "DescriptionStyleModel",
            "_view_count": null,
            "_view_module": "@jupyter-widgets/base",
            "_view_module_version": "1.2.0",
            "_view_name": "StyleView",
            "description_width": ""
          }
        },
        "3bc6e58c2052403ca7359b70fcbf4f02": {
          "model_module": "@jupyter-widgets/controls",
          "model_module_version": "1.5.0",
          "model_name": "HBoxModel",
          "state": {
            "_dom_classes": [],
            "_model_module": "@jupyter-widgets/controls",
            "_model_module_version": "1.5.0",
            "_model_name": "HBoxModel",
            "_view_count": null,
            "_view_module": "@jupyter-widgets/controls",
            "_view_module_version": "1.5.0",
            "_view_name": "HBoxView",
            "box_style": "",
            "children": [
              "IPY_MODEL_40d467a616344bcfa9aaeb2eeac2d908",
              "IPY_MODEL_9f2bae5e75a0441cb04c3716cec5b149",
              "IPY_MODEL_86e9763e126f4092937e8df630e21d14"
            ],
            "layout": "IPY_MODEL_ffae8faaed3d4778800d078276ccc034"
          }
        },
        "40d467a616344bcfa9aaeb2eeac2d908": {
          "model_module": "@jupyter-widgets/controls",
          "model_module_version": "1.5.0",
          "model_name": "HTMLModel",
          "state": {
            "_dom_classes": [],
            "_model_module": "@jupyter-widgets/controls",
            "_model_module_version": "1.5.0",
            "_model_name": "HTMLModel",
            "_view_count": null,
            "_view_module": "@jupyter-widgets/controls",
            "_view_module_version": "1.5.0",
            "_view_name": "HTMLView",
            "description": "",
            "description_tooltip": null,
            "layout": "IPY_MODEL_02521743e0a14e83bc3e9ce380f10990",
            "placeholder": "​",
            "style": "IPY_MODEL_2381c4b3f627446ea00ff2745f0b3cd3",
            "value": "Computing widget examples: 100%"
          }
        },
        "86e9763e126f4092937e8df630e21d14": {
          "model_module": "@jupyter-widgets/controls",
          "model_module_version": "1.5.0",
          "model_name": "HTMLModel",
          "state": {
            "_dom_classes": [],
            "_model_module": "@jupyter-widgets/controls",
            "_model_module_version": "1.5.0",
            "_model_name": "HTMLModel",
            "_view_count": null,
            "_view_module": "@jupyter-widgets/controls",
            "_view_module_version": "1.5.0",
            "_view_name": "HTMLView",
            "description": "",
            "description_tooltip": null,
            "layout": "IPY_MODEL_d8d8b1f045cc47c38b5943dbe2207b05",
            "placeholder": "​",
            "style": "IPY_MODEL_fb455af2a8fe41c28b5efa85c8a30193",
            "value": " 1/1 [00:00&lt;00:00,  8.71example/s]"
          }
        },
        "9f2bae5e75a0441cb04c3716cec5b149": {
          "model_module": "@jupyter-widgets/controls",
          "model_module_version": "1.5.0",
          "model_name": "FloatProgressModel",
          "state": {
            "_dom_classes": [],
            "_model_module": "@jupyter-widgets/controls",
            "_model_module_version": "1.5.0",
            "_model_name": "FloatProgressModel",
            "_view_count": null,
            "_view_module": "@jupyter-widgets/controls",
            "_view_module_version": "1.5.0",
            "_view_name": "ProgressView",
            "bar_style": "",
            "description": "",
            "description_tooltip": null,
            "layout": "IPY_MODEL_d49733d03cd94da0b4b2e1bffb143733",
            "max": 1,
            "min": 0,
            "orientation": "horizontal",
            "style": "IPY_MODEL_f156de3460634baabbb53b5f42727656",
            "value": 1
          }
        },
        "d49733d03cd94da0b4b2e1bffb143733": {
          "model_module": "@jupyter-widgets/base",
          "model_module_version": "1.2.0",
          "model_name": "LayoutModel",
          "state": {
            "_model_module": "@jupyter-widgets/base",
            "_model_module_version": "1.2.0",
            "_model_name": "LayoutModel",
            "_view_count": null,
            "_view_module": "@jupyter-widgets/base",
            "_view_module_version": "1.2.0",
            "_view_name": "LayoutView",
            "align_content": null,
            "align_items": null,
            "align_self": null,
            "border": null,
            "bottom": null,
            "display": null,
            "flex": null,
            "flex_flow": null,
            "grid_area": null,
            "grid_auto_columns": null,
            "grid_auto_flow": null,
            "grid_auto_rows": null,
            "grid_column": null,
            "grid_gap": null,
            "grid_row": null,
            "grid_template_areas": null,
            "grid_template_columns": null,
            "grid_template_rows": null,
            "height": null,
            "justify_content": null,
            "justify_items": null,
            "left": null,
            "margin": null,
            "max_height": null,
            "max_width": null,
            "min_height": null,
            "min_width": null,
            "object_fit": null,
            "object_position": null,
            "order": null,
            "overflow": null,
            "overflow_x": null,
            "overflow_y": null,
            "padding": null,
            "right": null,
            "top": null,
            "visibility": null,
            "width": null
          }
        },
        "d8d8b1f045cc47c38b5943dbe2207b05": {
          "model_module": "@jupyter-widgets/base",
          "model_module_version": "1.2.0",
          "model_name": "LayoutModel",
          "state": {
            "_model_module": "@jupyter-widgets/base",
            "_model_module_version": "1.2.0",
            "_model_name": "LayoutModel",
            "_view_count": null,
            "_view_module": "@jupyter-widgets/base",
            "_view_module_version": "1.2.0",
            "_view_name": "LayoutView",
            "align_content": null,
            "align_items": null,
            "align_self": null,
            "border": null,
            "bottom": null,
            "display": null,
            "flex": null,
            "flex_flow": null,
            "grid_area": null,
            "grid_auto_columns": null,
            "grid_auto_flow": null,
            "grid_auto_rows": null,
            "grid_column": null,
            "grid_gap": null,
            "grid_row": null,
            "grid_template_areas": null,
            "grid_template_columns": null,
            "grid_template_rows": null,
            "height": null,
            "justify_content": null,
            "justify_items": null,
            "left": null,
            "margin": null,
            "max_height": null,
            "max_width": null,
            "min_height": null,
            "min_width": null,
            "object_fit": null,
            "object_position": null,
            "order": null,
            "overflow": null,
            "overflow_x": null,
            "overflow_y": null,
            "padding": null,
            "right": null,
            "top": null,
            "visibility": null,
            "width": null
          }
        },
        "f156de3460634baabbb53b5f42727656": {
          "model_module": "@jupyter-widgets/controls",
          "model_module_version": "1.5.0",
          "model_name": "ProgressStyleModel",
          "state": {
            "_model_module": "@jupyter-widgets/controls",
            "_model_module_version": "1.5.0",
            "_model_name": "ProgressStyleModel",
            "_view_count": null,
            "_view_module": "@jupyter-widgets/base",
            "_view_module_version": "1.2.0",
            "_view_name": "StyleView",
            "bar_color": null,
            "description_width": ""
          }
        },
        "fb455af2a8fe41c28b5efa85c8a30193": {
          "model_module": "@jupyter-widgets/controls",
          "model_module_version": "1.5.0",
          "model_name": "DescriptionStyleModel",
          "state": {
            "_model_module": "@jupyter-widgets/controls",
            "_model_module_version": "1.5.0",
            "_model_name": "DescriptionStyleModel",
            "_view_count": null,
            "_view_module": "@jupyter-widgets/base",
            "_view_module_version": "1.2.0",
            "_view_name": "StyleView",
            "description_width": ""
          }
        },
        "ffae8faaed3d4778800d078276ccc034": {
          "model_module": "@jupyter-widgets/base",
          "model_module_version": "1.2.0",
          "model_name": "LayoutModel",
          "state": {
            "_model_module": "@jupyter-widgets/base",
            "_model_module_version": "1.2.0",
            "_model_name": "LayoutModel",
            "_view_count": null,
            "_view_module": "@jupyter-widgets/base",
            "_view_module_version": "1.2.0",
            "_view_name": "LayoutView",
            "align_content": null,
            "align_items": null,
            "align_self": null,
            "border": null,
            "bottom": null,
            "display": null,
            "flex": null,
            "flex_flow": null,
            "grid_area": null,
            "grid_auto_columns": null,
            "grid_auto_flow": null,
            "grid_auto_rows": null,
            "grid_column": null,
            "grid_gap": null,
            "grid_row": null,
            "grid_template_areas": null,
            "grid_template_columns": null,
            "grid_template_rows": null,
            "height": null,
            "justify_content": null,
            "justify_items": null,
            "left": null,
            "margin": null,
            "max_height": null,
            "max_width": null,
            "min_height": null,
            "min_width": null,
            "object_fit": null,
            "object_position": null,
            "order": null,
            "overflow": null,
            "overflow_x": null,
            "overflow_y": null,
            "padding": null,
            "right": null,
            "top": null,
            "visibility": "hidden",
            "width": null
          }
        }
      }
    }
  },
  "nbformat": 4,
  "nbformat_minor": 0
}
